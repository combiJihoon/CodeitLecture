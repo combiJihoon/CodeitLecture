{
 "cells": [
  {
   "cell_type": "markdown",
   "metadata": {},
   "source": [
    "# [Male/Female] 데이터가 있다고 가정했을 때"
   ]
  },
  {
   "cell_type": "markdown",
   "metadata": {},
   "source": [
    "막대그래프를 그리려면 df.plot(kind='bar') -> 이를 옆으로 눕히려면 df.plot(kind='barh') -> h는 horizontal의 약자\n",
    "\n",
    "막대그래프 쌓아올린 모양으로 하려면 df.plot(kind='bar', stacked=True)\n",
    "\n",
    "Male/Female 중 Female의 데이터만 받아오고 싶다면 df['Female'] 하면 Female 데이터만 series로 나오고, 이를 plot으로 만들려면 df['Female'].plot(kind='bar')"
   ]
  },
  {
   "cell_type": "code",
   "execution_count": 2,
   "metadata": {},
   "outputs": [],
   "source": [
    "%matplotlib inline\n",
    "import numpy as np\n",
    "import pandas as pd"
   ]
  },
  {
   "cell_type": "code",
   "execution_count": 4,
   "metadata": {},
   "outputs": [
    {
     "data": {
      "text/html": [
       "<div>\n",
       "<style scoped>\n",
       "    .dataframe tbody tr th:only-of-type {\n",
       "        vertical-align: middle;\n",
       "    }\n",
       "\n",
       "    .dataframe tbody tr th {\n",
       "        vertical-align: top;\n",
       "    }\n",
       "\n",
       "    .dataframe thead th {\n",
       "        text-align: right;\n",
       "    }\n",
       "</style>\n",
       "<table border=\"1\" class=\"dataframe\">\n",
       "  <thead>\n",
       "    <tr style=\"text-align: right;\">\n",
       "      <th></th>\n",
       "      <th>job_category</th>\n",
       "      <th>race_ethnicity</th>\n",
       "      <th>gender</th>\n",
       "      <th>count</th>\n",
       "      <th>percentage</th>\n",
       "    </tr>\n",
       "  </thead>\n",
       "  <tbody>\n",
       "    <tr>\n",
       "      <th>0</th>\n",
       "      <td>All workers</td>\n",
       "      <td>White</td>\n",
       "      <td>Male</td>\n",
       "      <td>268883</td>\n",
       "      <td>41.257252</td>\n",
       "    </tr>\n",
       "    <tr>\n",
       "      <th>1</th>\n",
       "      <td>All workers</td>\n",
       "      <td>White</td>\n",
       "      <td>Female</td>\n",
       "      <td>105560</td>\n",
       "      <td>16.197065</td>\n",
       "    </tr>\n",
       "    <tr>\n",
       "      <th>2</th>\n",
       "      <td>All workers</td>\n",
       "      <td>Black_or_African American</td>\n",
       "      <td>Male</td>\n",
       "      <td>17508</td>\n",
       "      <td>2.686417</td>\n",
       "    </tr>\n",
       "    <tr>\n",
       "      <th>3</th>\n",
       "      <td>All workers</td>\n",
       "      <td>Black_or_African American</td>\n",
       "      <td>Female</td>\n",
       "      <td>11479</td>\n",
       "      <td>1.761331</td>\n",
       "    </tr>\n",
       "    <tr>\n",
       "      <th>4</th>\n",
       "      <td>All workers</td>\n",
       "      <td>Asian</td>\n",
       "      <td>Male</td>\n",
       "      <td>125347</td>\n",
       "      <td>19.233171</td>\n",
       "    </tr>\n",
       "    <tr>\n",
       "      <th>5</th>\n",
       "      <td>All workers</td>\n",
       "      <td>Asian</td>\n",
       "      <td>Female</td>\n",
       "      <td>58049</td>\n",
       "      <td>8.907005</td>\n",
       "    </tr>\n",
       "    <tr>\n",
       "      <th>6</th>\n",
       "      <td>All workers</td>\n",
       "      <td>Hispanic_or_Latino</td>\n",
       "      <td>Male</td>\n",
       "      <td>32201</td>\n",
       "      <td>4.940903</td>\n",
       "    </tr>\n",
       "    <tr>\n",
       "      <th>7</th>\n",
       "      <td>All workers</td>\n",
       "      <td>Hispanic_or_Latino</td>\n",
       "      <td>Female</td>\n",
       "      <td>15512</td>\n",
       "      <td>2.380152</td>\n",
       "    </tr>\n",
       "    <tr>\n",
       "      <th>8</th>\n",
       "      <td>All workers</td>\n",
       "      <td>All</td>\n",
       "      <td>Male</td>\n",
       "      <td>454813</td>\n",
       "      <td>69.786244</td>\n",
       "    </tr>\n",
       "    <tr>\n",
       "      <th>9</th>\n",
       "      <td>All workers</td>\n",
       "      <td>All</td>\n",
       "      <td>Female</td>\n",
       "      <td>196910</td>\n",
       "      <td>30.213756</td>\n",
       "    </tr>\n",
       "  </tbody>\n",
       "</table>\n",
       "</div>"
      ],
      "text/plain": [
       "  job_category             race_ethnicity  gender   count  percentage\n",
       "0  All workers                      White    Male  268883   41.257252\n",
       "1  All workers                      White  Female  105560   16.197065\n",
       "2  All workers  Black_or_African American    Male   17508    2.686417\n",
       "3  All workers  Black_or_African American  Female   11479    1.761331\n",
       "4  All workers                      Asian    Male  125347   19.233171\n",
       "5  All workers                      Asian  Female   58049    8.907005\n",
       "6  All workers         Hispanic_or_Latino    Male   32201    4.940903\n",
       "7  All workers         Hispanic_or_Latino  Female   15512    2.380152\n",
       "8  All workers                        All    Male  454813   69.786244\n",
       "9  All workers                        All  Female  196910   30.213756"
      ]
     },
     "execution_count": 4,
     "metadata": {},
     "output_type": "execute_result"
    }
   ],
   "source": [
    "df = pd.read_csv('Data/codeit.csv')\n",
    "df.head(10)"
   ]
  },
  {
   "cell_type": "code",
   "execution_count": 10,
   "metadata": {},
   "outputs": [
    {
     "data": {
      "text/plain": [
       "<matplotlib.axes._subplots.AxesSubplot at 0x11acc44c0>"
      ]
     },
     "execution_count": 10,
     "metadata": {},
     "output_type": "execute_result"
    },
    {
     "data": {
      "image/png": "[encoded data removed]",
      "text/plain": [
       "<Figure size 432x288 with 1 Axes>"
      ]
     },
     "metadata": {
      "needs_background": "light"
     },
     "output_type": "display_data"
    }
   ],
   "source": [
    "df.plot(kind = 'barh', x = 'race_ethnicity', y = 'count')"
   ]
  },
  {
   "cell_type": "code",
   "execution_count": 12,
   "metadata": {},
   "outputs": [
    {
     "data": {
      "text/plain": [
       "<matplotlib.axes._subplots.AxesSubplot at 0x11b02a1f0>"
      ]
     },
     "execution_count": 12,
     "metadata": {},
     "output_type": "execute_result"
    },
    {
     "data": {
      "image/png": "[encoded data removed]",
      "text/plain": [
       "<Figure size 432x288 with 1 Axes>"
      ]
     },
     "metadata": {
      "needs_background": "light"
     },
     "output_type": "display_data"
    }
   ],
   "source": [
    "df.plot(kind = 'bar', stacked = True)"
   ]
  },
  {
   "cell_type": "code",
   "execution_count": null,
   "metadata": {},
   "outputs": [],
   "source": []
  }
 ],
 "metadata": {
  "kernelspec": {
   "display_name": "Python 3",
   "language": "python",
   "name": "python3"
  },
  "language_info": {
   "codemirror_mode": {
    "name": "ipython",
    "version": 3
   },
   "file_extension": ".py",
   "mimetype": "text/x-python",
   "name": "python",
   "nbconvert_exporter": "python",
   "pygments_lexer": "ipython3",
   "version": "3.8.3"
  }
 },
 "nbformat": 4,
 "nbformat_minor": 4
}
